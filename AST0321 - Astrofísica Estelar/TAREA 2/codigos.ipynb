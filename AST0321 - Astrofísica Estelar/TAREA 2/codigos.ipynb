{
 "cells": [
  {
   "cell_type": "code",
   "execution_count": 3,
   "metadata": {},
   "outputs": [],
   "source": [
    "import astropy.constants as const\n",
    "import astropy.units as u\n",
    "import numpy as np"
   ]
  },
  {
   "cell_type": "code",
   "execution_count": 4,
   "metadata": {},
   "outputs": [
    {
     "data": {
      "text/latex": [
       "$162200 \\; \\mathrm{\\frac{kg}{m^{3}}}$"
      ],
      "text/plain": [
       "<Quantity 162200. kg / m3>"
      ]
     },
     "execution_count": 4,
     "metadata": {},
     "output_type": "execute_result"
    }
   ],
   "source": [
    "central_density_sun = 1.622 * 10**2 * u.g/u.cm**3\n",
    "central_density_sun = central_density_sun.to(u.kg/u.m**3)\n",
    "central_density_sun"
   ]
  },
  {
   "cell_type": "code",
   "execution_count": 6,
   "metadata": {},
   "outputs": [
    {
     "data": {
      "text/latex": [
       "$15710000 \\; \\mathrm{K}$"
      ],
      "text/plain": [
       "<Quantity 15710000. K>"
      ]
     },
     "execution_count": 6,
     "metadata": {},
     "output_type": "execute_result"
    }
   ],
   "source": [
    "central_temp_sun = 1.571 * 10**7 * u.K\n",
    "central_temp_sun"
   ]
  },
  {
   "cell_type": "code",
   "execution_count": 10,
   "metadata": {},
   "outputs": [],
   "source": [
    "solar_mean_molecular_weight = 0.6\n",
    "const_r = 8.315 * 10 ** 7 * u.erg * u.K**-1 * u.g**-1 "
   ]
  },
  {
   "cell_type": "code",
   "execution_count": 12,
   "metadata": {},
   "outputs": [
    {
     "data": {
      "text/latex": [
       "$3.5313278 \\times 10^{16} \\; \\mathrm{Pa}$"
      ],
      "text/plain": [
       "<Quantity 3.53132784e+16 Pa>"
      ]
     },
     "execution_count": 12,
     "metadata": {},
     "output_type": "execute_result"
    }
   ],
   "source": [
    "pressure_gas = (const_r * central_temp_sun * central_density_sun) / solar_mean_molecular_weight\n",
    "pressure_gas.to(u.Pa)"
   ]
  },
  {
   "cell_type": "code",
   "execution_count": 15,
   "metadata": {},
   "outputs": [
    {
     "data": {
      "text/latex": [
       "$3.5055913 \\times 10^{16} \\; \\mathrm{Pa}$"
      ],
      "text/plain": [
       "<Quantity 3.5055913e+16 Pa>"
      ]
     },
     "execution_count": 15,
     "metadata": {},
     "output_type": "execute_result"
    }
   ],
   "source": [
    "(central_density_sun * const.k_B * central_temp_sun / (solar_mean_molecular_weight * const.m_p)).to(u.Pa)"
   ]
  },
  {
   "cell_type": "code",
   "execution_count": 17,
   "metadata": {},
   "outputs": [
    {
     "data": {
      "text/latex": [
       "$7.5657333 \\times 10^{-16} \\; \\mathrm{\\frac{J}{m^{3}\\,K^{4}}}$"
      ],
      "text/plain": [
       "<Quantity 7.56573325e-16 J / (K4 m3)>"
      ]
     },
     "execution_count": 17,
     "metadata": {},
     "output_type": "execute_result"
    }
   ],
   "source": [
    "const_a = (8 * (np.pi ** 5) * (const.k_B ** 4)) / (15 * (const.h ** 3) * (const.c ** 3))\n",
    "const_a"
   ]
  },
  {
   "cell_type": "code",
   "execution_count": 18,
   "metadata": {},
   "outputs": [
    {
     "data": {
      "text/latex": [
       "$1.5361531 \\times 10^{13} \\; \\mathrm{Pa}$"
      ],
      "text/plain": [
       "<Quantity 1.53615313e+13 Pa>"
      ]
     },
     "execution_count": 18,
     "metadata": {},
     "output_type": "execute_result"
    }
   ],
   "source": [
    "pressure_rad = (const_a * (central_temp_sun ** 4)) / 3\n",
    "pressure_rad.to(u.Pa)"
   ]
  },
  {
   "cell_type": "code",
   "execution_count": 20,
   "metadata": {},
   "outputs": [
    {
     "data": {
      "text/latex": [
       "$3.532864 \\times 10^{16} \\; \\mathrm{Pa}$"
      ],
      "text/plain": [
       "<Quantity 3.53286399e+16 Pa>"
      ]
     },
     "execution_count": 20,
     "metadata": {},
     "output_type": "execute_result"
    }
   ],
   "source": [
    "tot_pressure = pressure_gas.to(u.Pa) + pressure_rad.to(u.Pa)\n",
    "tot_pressure"
   ]
  },
  {
   "cell_type": "code",
   "execution_count": 21,
   "metadata": {},
   "outputs": [
    {
     "data": {
      "text/latex": [
       "$0.00043481808 \\; \\mathrm{}$"
      ],
      "text/plain": [
       "<Quantity 0.00043482>"
      ]
     },
     "execution_count": 21,
     "metadata": {},
     "output_type": "execute_result"
    }
   ],
   "source": [
    "pressure_rad.to(u.Pa) / tot_pressure.to(u.Pa)"
   ]
  }
 ],
 "metadata": {
  "kernelspec": {
   "display_name": "Python 3",
   "language": "python",
   "name": "python3"
  },
  "language_info": {
   "codemirror_mode": {
    "name": "ipython",
    "version": 3
   },
   "file_extension": ".py",
   "mimetype": "text/x-python",
   "name": "python",
   "nbconvert_exporter": "python",
   "pygments_lexer": "ipython3",
   "version": "3.10.6"
  },
  "orig_nbformat": 4
 },
 "nbformat": 4,
 "nbformat_minor": 2
}
